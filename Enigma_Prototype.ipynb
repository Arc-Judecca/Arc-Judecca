{
  "nbformat": 4,
  "nbformat_minor": 0,
  "metadata": {
    "colab": {
      "provenance": [],
      "authorship_tag": "ABX9TyOaKezI82O7N+QEmEW3gu5x",
      "include_colab_link": true
    },
    "kernelspec": {
      "name": "python3",
      "display_name": "Python 3"
    },
    "language_info": {
      "name": "python"
    }
  },
  "cells": [
    {
      "cell_type": "markdown",
      "metadata": {
        "id": "view-in-github",
        "colab_type": "text"
      },
      "source": [
        "<a href=\"https://colab.research.google.com/github/Arc-Judecca/Arc-Judecca/blob/main/Enigma_Prototype.ipynb\" target=\"_parent\"><img src=\"https://colab.research.google.com/assets/colab-badge.svg\" alt=\"Open In Colab\"/></a>"
      ]
    },
    {
      "cell_type": "code",
      "execution_count": 4,
      "metadata": {
        "colab": {
          "base_uri": "https://localhost:8080/"
        },
        "id": "bnfKkbw73NGd",
        "outputId": "5300cd03-09a0-4b51-e11e-a449479fd585"
      },
      "outputs": [
        {
          "output_type": "stream",
          "name": "stdout",
          "text": [
            "Masukkan pesan yang ingin dienkripsi: MEIN KAMPF\n",
            "Pesan terenkripsi: HLDIRVHWA\n"
          ]
        }
      ],
      "source": [
        "import random\n",
        "\n",
        "class EnigmaMachine:\n",
        "    def __init__(self, rotors, reflector):\n",
        "        self.rotors = rotors\n",
        "        self.reflector = reflector\n",
        "\n",
        "    def substitute(self, char):\n",
        "        return chr((ord(char) - 65 + self.rotors[0]) % 26 + 65)\n",
        "\n",
        "    def reflect(self, char):\n",
        "        return chr((ord(char) - 65 + self.reflector) % 26 + 65)\n",
        "\n",
        "    def reverse_substitute(self, char):\n",
        "        return chr((ord(char) - 65 - self.rotors[0]) % 26 + 65)\n",
        "\n",
        "    def rotate_rotors(self):\n",
        "        self.rotors = self.rotors[1:] + [self.rotors[0]]\n",
        "\n",
        "    def encrypt(self, message):\n",
        "        encrypted_message = ''\n",
        "        for char in message.upper():\n",
        "            if char.isalpha():\n",
        "                self.rotate_rotors()\n",
        "                char = self.substitute(char)\n",
        "                for rotor in self.rotors[1:]:\n",
        "                    char = self.substitute(char)\n",
        "                char = self.reflect(char)\n",
        "                for rotor in reversed(self.rotors[1:]):\n",
        "                    char = self.reverse_substitute(char)\n",
        "                char = self.substitute(char)\n",
        "                encrypted_message += char\n",
        "        return encrypted_message\n",
        "\n",
        "# Set up Enigma machine\n",
        "rotors = [random.randint(0, 25) for _ in range(3)]  # Random initial rotor positions\n",
        "reflector = random.randint(0, 25)  # Random reflector setting\n",
        "enigma = EnigmaMachine(rotors, reflector)\n",
        "\n",
        "# Input message from user\n",
        "message = input(\"Masukkan pesan yang ingin dienkripsi: \")\n",
        "encrypted_message = enigma.encrypt(message)\n",
        "print(\"Pesan terenkripsi:\", encrypted_message)\n"
      ]
    }
  ]
}